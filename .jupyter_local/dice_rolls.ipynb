{
 "cells": [
  {
   "cell_type": "code",
   "execution_count": 4,
   "id": "5f1927c2-8202-4424-b751-d082f5ba9de6",
   "metadata": {},
   "outputs": [
    {
     "name": "stdout",
     "output_type": "stream",
     "text": [
      "-1 -1\n",
      "-1 1\n",
      "1 -1\n",
      "1 1\n"
     ]
    }
   ],
   "source": [
    "import itertools\n",
    "for x, y in itertools.product([-1, 1], [-1, 1]):\n",
    "    print(x, y)"
   ]
  },
  {
   "cell_type": "code",
   "execution_count": 12,
   "id": "cb38d2d5-f2bc-40d5-9d19-5a31ab8181c0",
   "metadata": {},
   "outputs": [
    {
     "name": "stdout",
     "output_type": "stream",
     "text": [
      "  3:   1 X]\n",
      "  4:   3 XXX]\n",
      "  5:   6 XXXXXX]\n",
      "  6:  10 XXXXXXXXXX]\n",
      "  7:  15 XXXXXXXXXXXXXXX]\n",
      "  8:  21 XXXXXXXXXXXXXXXXXXXXX]\n",
      "  9:  25 XXXXXXXXXXXXXXXXXXXXXXXXX]\n",
      " 10:  27 XXXXXXXXXXXXXXXXXXXXXXXXXXX]\n",
      " 11:  27 XXXXXXXXXXXXXXXXXXXXXXXXXXX]\n",
      " 12:  25 XXXXXXXXXXXXXXXXXXXXXXXXX]\n",
      " 13:  21 XXXXXXXXXXXXXXXXXXXXX]\n",
      " 14:  15 XXXXXXXXXXXXXXX]\n",
      " 15:  10 XXXXXXXXXX]\n",
      " 16:   6 XXXXXX]\n",
      " 17:   3 XXX]\n",
      " 18:   1 X]\n"
     ]
    }
   ],
   "source": [
    "import collections\n",
    "rolls = itertools.product(range(1,7), repeat=3)\n",
    "tally = collections.Counter(sum(t) for t in rolls)\n",
    "for total in sorted(tally):\n",
    "    occurs = tally[total]\n",
    "    print(f\"{total:3d}: {occurs:3d} {'X'*occurs}]\")"
   ]
  }
 ],
 "metadata": {
  "kernelspec": {
   "display_name": "Python 3 (ipykernel)",
   "language": "python",
   "name": "python3"
  },
  "language_info": {
   "codemirror_mode": {
    "name": "ipython",
    "version": 3
   },
   "file_extension": ".py",
   "mimetype": "text/x-python",
   "name": "python",
   "nbconvert_exporter": "python",
   "pygments_lexer": "ipython3",
   "version": "3.9.12"
  }
 },
 "nbformat": 4,
 "nbformat_minor": 5
}
